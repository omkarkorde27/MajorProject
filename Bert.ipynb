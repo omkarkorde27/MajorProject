{
 "cells": [
  {
   "cell_type": "code",
   "execution_count": 1,
   "id": "387b275a",
   "metadata": {
    "scrolled": true
   },
   "outputs": [],
   "source": [
    "from transformers import BertTokenizer, BertModel, get_linear_schedule_with_warmup"
   ]
  },
  {
   "cell_type": "code",
   "execution_count": 2,
   "id": "7fe1b89e",
   "metadata": {
    "scrolled": true
   },
   "outputs": [],
   "source": [
    "import numpy as np\n",
    "import pandas as pd\n",
    "import seaborn as sns\n",
    "from pylab import rcParams"
   ]
  },
  {
   "cell_type": "code",
   "execution_count": 3,
   "id": "f38a6d40",
   "metadata": {},
   "outputs": [],
   "source": [
    "import matplotlib.pyplot as plt\n",
    "from matplotlib import rc\n",
    "\n",
    "from sklearn.model_selection import train_test_split\n",
    "from sklearn.metrics import confusion_matrix, classification_report\n",
    "\n",
    "from collections import defaultdict\n",
    "from textwrap import wrap\n",
    "\n",
    "%matplotlib inline\n",
    "%config InlineBackend.figure_format='retina'"
   ]
  },
  {
   "cell_type": "code",
   "execution_count": 5,
   "id": "a3e39876",
   "metadata": {},
   "outputs": [],
   "source": [
    "import torch \n",
    "from torch.utils.data import Dataset, DataLoader\n",
    "import torch.nn.functional as F\n",
    "from torch import nn, optim"
   ]
  },
  {
   "cell_type": "code",
   "execution_count": 6,
   "id": "30d14bb1",
   "metadata": {},
   "outputs": [],
   "source": [
    "sns.set(style='whitegrid', palette='muted', font_scale=1.2)\n",
    "sns.set_palette(sns.color_palette(\"Paired\"))\n",
    "\n",
    "RANDOM_SEED = 42\n",
    "np.random.seed(RANDOM_SEED)\n",
    "torch.manual_seed(RANDOM_SEED)\n",
    "\n",
    "device = torch.device(\"cuda:0\" if torch.cuda.is_available() else \"cpu\")"
   ]
  },
  {
   "cell_type": "code",
   "execution_count": 7,
   "id": "5dcc03e8",
   "metadata": {},
   "outputs": [],
   "source": [
    "csv_file_path = 'student_grades_updated.csv'"
   ]
  },
  {
   "cell_type": "code",
   "execution_count": 8,
   "id": "7e2165f7",
   "metadata": {},
   "outputs": [
    {
     "data": {
      "text/html": [
       "<div>\n",
       "<style scoped>\n",
       "    .dataframe tbody tr th:only-of-type {\n",
       "        vertical-align: middle;\n",
       "    }\n",
       "\n",
       "    .dataframe tbody tr th {\n",
       "        vertical-align: top;\n",
       "    }\n",
       "\n",
       "    .dataframe thead th {\n",
       "        text-align: right;\n",
       "    }\n",
       "</style>\n",
       "<table border=\"1\" class=\"dataframe\">\n",
       "  <thead>\n",
       "    <tr style=\"text-align: right;\">\n",
       "      <th></th>\n",
       "      <th>id</th>\n",
       "      <th>question</th>\n",
       "      <th>answer</th>\n",
       "      <th>nbestanswers</th>\n",
       "      <th>main_category</th>\n",
       "      <th>random_answer_list</th>\n",
       "      <th>similarities</th>\n",
       "      <th>Grades</th>\n",
       "    </tr>\n",
       "  </thead>\n",
       "  <tbody>\n",
       "    <tr>\n",
       "      <th>0</th>\n",
       "      <td>2020338.0</td>\n",
       "      <td>Why did the U.S Invade Iraq ?</td>\n",
       "      <td>A small group of politicians believed strongly...</td>\n",
       "      <td>[\"A small group of politicians believed strong...</td>\n",
       "      <td>News &amp; Events</td>\n",
       "      <td>['I think Yuval is pretty spot on. It\\'s a pro...</td>\n",
       "      <td>[0.1988981679081917]</td>\n",
       "      <td>F</td>\n",
       "    </tr>\n",
       "    <tr>\n",
       "      <th>1</th>\n",
       "      <td>2874684.0</td>\n",
       "      <td>How to get rid of a beehive?</td>\n",
       "      <td>Call an area apiarist.  They should be able to...</td>\n",
       "      <td>['Call an area apiarist.  They should be able ...</td>\n",
       "      <td>Education &amp; Reference</td>\n",
       "      <td>['Call an area apiarist.  They should be able ...</td>\n",
       "      <td>[0.9176195174455644]</td>\n",
       "      <td>O</td>\n",
       "    </tr>\n",
       "    <tr>\n",
       "      <th>2</th>\n",
       "      <td>4193114.0</td>\n",
       "      <td>Why don't European restaurants serve water?</td>\n",
       "      <td>There's a general belief in Europe (and in fac...</td>\n",
       "      <td>[\"There's a general belief in Europe (and in f...</td>\n",
       "      <td>Society &amp; Culture</td>\n",
       "      <td>['I\\'d like to take a different approach in an...</td>\n",
       "      <td>[0.32846239209175115]</td>\n",
       "      <td>F</td>\n",
       "    </tr>\n",
       "    <tr>\n",
       "      <th>3</th>\n",
       "      <td>3608897.0</td>\n",
       "      <td>Can someone explain the theory of e=mc2?</td>\n",
       "      <td>In general it means that in a very high speed ...</td>\n",
       "      <td>['In general it means that in a very high spee...</td>\n",
       "      <td>Science &amp; Mathematics</td>\n",
       "      <td>['I think an expansion on the answer from the ...</td>\n",
       "      <td>[0.2550382271409035]</td>\n",
       "      <td>F</td>\n",
       "    </tr>\n",
       "    <tr>\n",
       "      <th>4</th>\n",
       "      <td>2175566.0</td>\n",
       "      <td>For colIege admission, is it better to take AP...</td>\n",
       "      <td>I used to work in a college admissions office ...</td>\n",
       "      <td>[\"I used to work in a college admissions offic...</td>\n",
       "      <td>Education &amp; Reference</td>\n",
       "      <td>[\"I used to work in a college admissions offic...</td>\n",
       "      <td>[0.9337731510400772]</td>\n",
       "      <td>O</td>\n",
       "    </tr>\n",
       "  </tbody>\n",
       "</table>\n",
       "</div>"
      ],
      "text/plain": [
       "          id                                           question  \\\n",
       "0  2020338.0                      Why did the U.S Invade Iraq ?   \n",
       "1  2874684.0                       How to get rid of a beehive?   \n",
       "2  4193114.0        Why don't European restaurants serve water?   \n",
       "3  3608897.0           Can someone explain the theory of e=mc2?   \n",
       "4  2175566.0  For colIege admission, is it better to take AP...   \n",
       "\n",
       "                                              answer  \\\n",
       "0  A small group of politicians believed strongly...   \n",
       "1  Call an area apiarist.  They should be able to...   \n",
       "2  There's a general belief in Europe (and in fac...   \n",
       "3  In general it means that in a very high speed ...   \n",
       "4  I used to work in a college admissions office ...   \n",
       "\n",
       "                                        nbestanswers          main_category  \\\n",
       "0  [\"A small group of politicians believed strong...          News & Events   \n",
       "1  ['Call an area apiarist.  They should be able ...  Education & Reference   \n",
       "2  [\"There's a general belief in Europe (and in f...      Society & Culture   \n",
       "3  ['In general it means that in a very high spee...  Science & Mathematics   \n",
       "4  [\"I used to work in a college admissions offic...  Education & Reference   \n",
       "\n",
       "                                  random_answer_list           similarities  \\\n",
       "0  ['I think Yuval is pretty spot on. It\\'s a pro...   [0.1988981679081917]   \n",
       "1  ['Call an area apiarist.  They should be able ...   [0.9176195174455644]   \n",
       "2  ['I\\'d like to take a different approach in an...  [0.32846239209175115]   \n",
       "3  ['I think an expansion on the answer from the ...   [0.2550382271409035]   \n",
       "4  [\"I used to work in a college admissions offic...   [0.9337731510400772]   \n",
       "\n",
       "  Grades  \n",
       "0      F  \n",
       "1      O  \n",
       "2      F  \n",
       "3      F  \n",
       "4      O  "
      ]
     },
     "execution_count": 8,
     "metadata": {},
     "output_type": "execute_result"
    }
   ],
   "source": [
    "df = pd.read_csv(csv_file_path)\n",
    "df.head()"
   ]
  },
  {
   "cell_type": "code",
   "execution_count": 9,
   "id": "1188f44e",
   "metadata": {},
   "outputs": [
    {
     "data": {
      "text/plain": [
       "['A', 'B', 'C', 'F', 'O']"
      ]
     },
     "execution_count": 9,
     "metadata": {},
     "output_type": "execute_result"
    }
   ],
   "source": [
    "sorted(df.Grades.unique())"
   ]
  },
  {
   "cell_type": "code",
   "execution_count": 10,
   "id": "8f618904",
   "metadata": {},
   "outputs": [],
   "source": [
    "def map_grade(grade_assigned):\n",
    "    grade_assigned = str(grade_assigned)\n",
    "    if grade_assigned == 'F':\n",
    "        return 0\n",
    "    elif grade_assigned == 'C':\n",
    "        return 1\n",
    "    elif grade_assigned == 'B':\n",
    "        return 2\n",
    "    elif grade_assigned == 'A':\n",
    "        return 3\n",
    "    elif grade_assigned == 'O':\n",
    "        return 4\n",
    "    \n",
    "df['Grades'] = df.Grades.apply(map_grade)"
   ]
  },
  {
   "cell_type": "code",
   "execution_count": 11,
   "id": "f301163a",
   "metadata": {},
   "outputs": [
    {
     "data": {
      "text/html": [
       "<div>\n",
       "<style scoped>\n",
       "    .dataframe tbody tr th:only-of-type {\n",
       "        vertical-align: middle;\n",
       "    }\n",
       "\n",
       "    .dataframe tbody tr th {\n",
       "        vertical-align: top;\n",
       "    }\n",
       "\n",
       "    .dataframe thead th {\n",
       "        text-align: right;\n",
       "    }\n",
       "</style>\n",
       "<table border=\"1\" class=\"dataframe\">\n",
       "  <thead>\n",
       "    <tr style=\"text-align: right;\">\n",
       "      <th></th>\n",
       "      <th>id</th>\n",
       "      <th>question</th>\n",
       "      <th>answer</th>\n",
       "      <th>nbestanswers</th>\n",
       "      <th>main_category</th>\n",
       "      <th>random_answer_list</th>\n",
       "      <th>similarities</th>\n",
       "      <th>Grades</th>\n",
       "    </tr>\n",
       "  </thead>\n",
       "  <tbody>\n",
       "    <tr>\n",
       "      <th>0</th>\n",
       "      <td>2020338.0</td>\n",
       "      <td>Why did the U.S Invade Iraq ?</td>\n",
       "      <td>A small group of politicians believed strongly...</td>\n",
       "      <td>[\"A small group of politicians believed strong...</td>\n",
       "      <td>News &amp; Events</td>\n",
       "      <td>['I think Yuval is pretty spot on. It\\'s a pro...</td>\n",
       "      <td>[0.1988981679081917]</td>\n",
       "      <td>0</td>\n",
       "    </tr>\n",
       "    <tr>\n",
       "      <th>1</th>\n",
       "      <td>2874684.0</td>\n",
       "      <td>How to get rid of a beehive?</td>\n",
       "      <td>Call an area apiarist.  They should be able to...</td>\n",
       "      <td>['Call an area apiarist.  They should be able ...</td>\n",
       "      <td>Education &amp; Reference</td>\n",
       "      <td>['Call an area apiarist.  They should be able ...</td>\n",
       "      <td>[0.9176195174455644]</td>\n",
       "      <td>4</td>\n",
       "    </tr>\n",
       "    <tr>\n",
       "      <th>2</th>\n",
       "      <td>4193114.0</td>\n",
       "      <td>Why don't European restaurants serve water?</td>\n",
       "      <td>There's a general belief in Europe (and in fac...</td>\n",
       "      <td>[\"There's a general belief in Europe (and in f...</td>\n",
       "      <td>Society &amp; Culture</td>\n",
       "      <td>['I\\'d like to take a different approach in an...</td>\n",
       "      <td>[0.32846239209175115]</td>\n",
       "      <td>0</td>\n",
       "    </tr>\n",
       "    <tr>\n",
       "      <th>3</th>\n",
       "      <td>3608897.0</td>\n",
       "      <td>Can someone explain the theory of e=mc2?</td>\n",
       "      <td>In general it means that in a very high speed ...</td>\n",
       "      <td>['In general it means that in a very high spee...</td>\n",
       "      <td>Science &amp; Mathematics</td>\n",
       "      <td>['I think an expansion on the answer from the ...</td>\n",
       "      <td>[0.2550382271409035]</td>\n",
       "      <td>0</td>\n",
       "    </tr>\n",
       "    <tr>\n",
       "      <th>4</th>\n",
       "      <td>2175566.0</td>\n",
       "      <td>For colIege admission, is it better to take AP...</td>\n",
       "      <td>I used to work in a college admissions office ...</td>\n",
       "      <td>[\"I used to work in a college admissions offic...</td>\n",
       "      <td>Education &amp; Reference</td>\n",
       "      <td>[\"I used to work in a college admissions offic...</td>\n",
       "      <td>[0.9337731510400772]</td>\n",
       "      <td>4</td>\n",
       "    </tr>\n",
       "  </tbody>\n",
       "</table>\n",
       "</div>"
      ],
      "text/plain": [
       "          id                                           question  \\\n",
       "0  2020338.0                      Why did the U.S Invade Iraq ?   \n",
       "1  2874684.0                       How to get rid of a beehive?   \n",
       "2  4193114.0        Why don't European restaurants serve water?   \n",
       "3  3608897.0           Can someone explain the theory of e=mc2?   \n",
       "4  2175566.0  For colIege admission, is it better to take AP...   \n",
       "\n",
       "                                              answer  \\\n",
       "0  A small group of politicians believed strongly...   \n",
       "1  Call an area apiarist.  They should be able to...   \n",
       "2  There's a general belief in Europe (and in fac...   \n",
       "3  In general it means that in a very high speed ...   \n",
       "4  I used to work in a college admissions office ...   \n",
       "\n",
       "                                        nbestanswers          main_category  \\\n",
       "0  [\"A small group of politicians believed strong...          News & Events   \n",
       "1  ['Call an area apiarist.  They should be able ...  Education & Reference   \n",
       "2  [\"There's a general belief in Europe (and in f...      Society & Culture   \n",
       "3  ['In general it means that in a very high spee...  Science & Mathematics   \n",
       "4  [\"I used to work in a college admissions offic...  Education & Reference   \n",
       "\n",
       "                                  random_answer_list           similarities  \\\n",
       "0  ['I think Yuval is pretty spot on. It\\'s a pro...   [0.1988981679081917]   \n",
       "1  ['Call an area apiarist.  They should be able ...   [0.9176195174455644]   \n",
       "2  ['I\\'d like to take a different approach in an...  [0.32846239209175115]   \n",
       "3  ['I think an expansion on the answer from the ...   [0.2550382271409035]   \n",
       "4  [\"I used to work in a college admissions offic...   [0.9337731510400772]   \n",
       "\n",
       "   Grades  \n",
       "0       0  \n",
       "1       4  \n",
       "2       0  \n",
       "3       0  \n",
       "4       4  "
      ]
     },
     "execution_count": 11,
     "metadata": {},
     "output_type": "execute_result"
    }
   ],
   "source": [
    "df.head()"
   ]
  },
  {
   "cell_type": "code",
   "execution_count": 12,
   "id": "c4025c27",
   "metadata": {},
   "outputs": [
    {
     "data": {
      "text/plain": [
       "[0, 1, 2, 3, 4]"
      ]
     },
     "execution_count": 12,
     "metadata": {},
     "output_type": "execute_result"
    }
   ],
   "source": [
    "sorted(df.Grades.unique())"
   ]
  },
  {
   "cell_type": "code",
   "execution_count": 13,
   "id": "d7666631",
   "metadata": {
    "scrolled": true
   },
   "outputs": [
    {
     "data": {
      "image/png": "[encoded data removed]",
      "text/plain": [
       "<Figure size 432x288 with 1 Axes>"
      ]
     },
     "metadata": {
      "image/png": {
       "height": 286,
       "width": 404
      }
     },
     "output_type": "display_data"
    }
   ],
   "source": [
    "grade_counts = df['Grades'].value_counts()\n",
    "\n",
    "sns.barplot(x=grade_counts.index, y=grade_counts.values)\n",
    "plt.xlabel('Grades')\n",
    "plt.ylabel('Count')\n",
    "plt.title('Distribution of Grades')\n",
    "plt.show()\n"
   ]
  },
  {
   "cell_type": "code",
   "execution_count": 14,
   "id": "c9cb4adf",
   "metadata": {},
   "outputs": [],
   "source": [
    "answer = df.answer.to_list(),\n",
    "random_answer_list = df.random_answer_list.to_list(),\n",
    "target = df.Grades.to_list(),"
   ]
  },
  {
   "cell_type": "code",
   "execution_count": 16,
   "id": "0e487989",
   "metadata": {},
   "outputs": [],
   "source": [
    "pre_trained_model_ckpt = \"bert-base-uncased\""
   ]
  },
  {
   "cell_type": "code",
   "execution_count": 17,
   "id": "98b012dd",
   "metadata": {
    "scrolled": true
   },
   "outputs": [],
   "source": [
    "tokenizer = BertTokenizer.from_pretrained(pre_trained_model_ckpt)"
   ]
  },
  {
   "cell_type": "code",
   "execution_count": 18,
   "id": "84a62c63",
   "metadata": {},
   "outputs": [
    {
     "name": "stderr",
     "output_type": "stream",
     "text": [
      "C:\\Users\\omkar\\anaconda3\\lib\\site-packages\\seaborn\\distributions.py:2619: FutureWarning: `distplot` is a deprecated function and will be removed in a future version. Please adapt your code to use either `displot` (a figure-level function with similar flexibility) or `histplot` (an axes-level function for histograms).\n",
      "  warnings.warn(msg, FutureWarning)\n"
     ]
    },
    {
     "data": {
      "text/plain": [
       "Text(0.5, 0, 'Token count')"
      ]
     },
     "execution_count": 18,
     "metadata": {},
     "output_type": "execute_result"
    },
    {
     "data": {
      "image/png": "[encoded data removed]",
      "text/plain": [
       "<Figure size 432x288 with 1 Axes>"
      ]
     },
     "metadata": {
      "image/png": {
       "height": 270,
       "width": 419
      }
     },
     "output_type": "display_data"
    }
   ],
   "source": [
    "token_length_list = []\n",
    "\n",
    "for txt in df.answer:\n",
    "    if pd.isna(txt) or txt == \"\": \n",
    "         continue  # Skip to the next text\n",
    "    tokens = tokenizer.encode(txt, truncation=True, max_length=512)\n",
    "    token_length_list.append(len(tokens))\n",
    "    \n",
    "sns.distplot(token_length_list)\n",
    "\n",
    "plt.xlim([0,256])\n",
    "\n",
    "plt.xlabel('Token count')"
   ]
  },
  {
   "cell_type": "code",
   "execution_count": 19,
   "id": "807609ff",
   "metadata": {},
   "outputs": [
    {
     "name": "stderr",
     "output_type": "stream",
     "text": [
      "C:\\Users\\omkar\\anaconda3\\lib\\site-packages\\seaborn\\distributions.py:2619: FutureWarning: `distplot` is a deprecated function and will be removed in a future version. Please adapt your code to use either `displot` (a figure-level function with similar flexibility) or `histplot` (an axes-level function for histograms).\n",
      "  warnings.warn(msg, FutureWarning)\n"
     ]
    },
    {
     "data": {
      "text/plain": [
       "Text(0.5, 0, 'Token count')"
      ]
     },
     "execution_count": 19,
     "metadata": {},
     "output_type": "execute_result"
    },
    {
     "data": {
      "image/png": "[encoded data removed]",
      "text/plain": [
       "<Figure size 432x288 with 1 Axes>"
      ]
     },
     "metadata": {
      "image/png": {
       "height": 270,
       "width": 411
      }
     },
     "output_type": "display_data"
    }
   ],
   "source": [
    "token_length_list2 = []\n",
    "\n",
    "for i in df.random_answer_list:\n",
    "    if pd.isna(i) or i == \"\":  # Use 'i' to check for emptiness\n",
    "        continue  # Skip to the next text\n",
    "    tokens = tokenizer.encode(i, truncation=True, max_length=512)\n",
    "    token_length_list2.append(len(tokens))  # Append to the correct list\n",
    "    \n",
    "sns.distplot(token_length_list2)\n",
    "plt.xlim([0,256])\n",
    "plt.xlabel('Token count') \n"
   ]
  },
  {
   "cell_type": "code",
   "execution_count": 20,
   "id": "8d08a890",
   "metadata": {},
   "outputs": [
    {
     "name": "stdout",
     "output_type": "stream",
     "text": [
      "(8000, 8) (1000, 8) (1001, 8)\n"
     ]
    }
   ],
   "source": [
    "df_train, df_test = train_test_split(df, test_size=0.2, random_state = RANDOM_SEED)\n",
    "\n",
    "df_val, df_test = train_test_split(df_test, test_size = 0.5, random_state= RANDOM_SEED)\n",
    "\n",
    "print(df_train.shape, df_val.shape, df_test.shape)"
   ]
  },
  {
   "cell_type": "code",
   "execution_count": 21,
   "id": "f9790093",
   "metadata": {},
   "outputs": [],
   "source": [
    "import tensorflow as tf\n",
    "\n",
    "RANDOM_SEED = 42\n",
    "np.random.seed(RANDOM_SEED)\n",
    "torch.manual_seed(RANDOM_SEED)\n",
    "device = torch.device(\"cuda:0\" if torch.cuda.is_available() else \"cpu\")"
   ]
  },
  {
   "cell_type": "code",
   "execution_count": 22,
   "id": "a905d8ce",
   "metadata": {},
   "outputs": [],
   "source": [
    "from transformers import DataCollatorWithPadding\n",
    "\n",
    "MAX_LEN = 160\n",
    "BATCH_SIZE = 32\n",
    "\n",
    "class GradeDataset(Dataset):\n",
    "    def __init__(self, modelanswers, studentanswers, targets, tokenizer, max_len, include_raw_modelanswer = False, include_raw_studentanswer = False):\n",
    "        self.modelanswers = modelanswers\n",
    "        self.studentanswers = studentanswers\n",
    "        self.targets = targets\n",
    "        self.tokenizer = tokenizer\n",
    "        self.max_len = max_len\n",
    "        # No longer needed:\n",
    "        self.include_raw_modelanswer = include_raw_modelanswer \n",
    "        self.include_raw_studentanswer = include_raw_studentanswer \n",
    "\n",
    "    def __len__(self):\n",
    "        return len(self.studentanswers)\n",
    "\n",
    "    def __getitem__(self, item):\n",
    "        modelanswer = str(self.modelanswers[item])\n",
    "        studentanswer = str(self.studentanswers[item])\n",
    "        target = self.targets[item]\n",
    "        encoding = self.tokenizer.encode_plus(\n",
    "            modelanswer,\n",
    "            add_special_tokens=True,\n",
    "            max_length=self.max_len,\n",
    "            return_token_type_ids=False,\n",
    "            return_attention_mask=True,\n",
    "            truncation=True,\n",
    "            padding=True, \n",
    "            return_tensors='pt'\n",
    "        )\n",
    "\n",
    "        output = {\n",
    "            'input_ids': encoding['input_ids'].flatten(),\n",
    "            'attention_mask': encoding['attention_mask'].flatten(),\n",
    "            'targets': torch.tensor(target, dtype=torch.long)\n",
    "        }\n",
    "        \n",
    "        if self.include_raw_modelanswer:\n",
    "            output['model_answer'] = modelanswer\n",
    "        \n",
    "        if self.include_raw_studentanswer:\n",
    "            output['student_answer'] = studentanswer\n",
    "        \n",
    "            \n",
    "        return output\n",
    "\n",
    "\n",
    "pre_trained_model_ckpt = 'bert-base-uncased'\n",
    "tokenizer = BertTokenizer.from_pretrained(pre_trained_model_ckpt)\n",
    "\n",
    "class CustomCollatorWithPadding(DataCollatorWithPadding):\n",
    "    def __call__(self, batch):\n",
    "        numerical_features = ['input_ids', 'attention_mask', 'targets']  \n",
    "        text_features = ['model_answer', 'student_answer']\n",
    "\n",
    "        batch_encodings = {feature: [item[feature] for item in batch] for feature in numerical_features}\n",
    "        batch_text = {\n",
    "           'model_answer_text':  [item['model_answer'] for item in batch],\n",
    "           'student_answer_text': [item['student_answer'] for item in batch]\n",
    "        }\n",
    "        # Apply padding and numericalization via the base DataCollator\n",
    "        padded_batch = super().__call__(batch_encodings)  \n",
    "\n",
    "        # Add the text data to the padded batch\n",
    "        padded_batch.update(batch_text)\n",
    "        \n",
    "        return padded_batch\n",
    "    \n",
    "collator = CustomCollatorWithPadding(tokenizer=tokenizer, padding = 'longest')\n",
    "    \n",
    "def create_data_loader(df, tokenizer, max_len = MAX_LEN, batch_size = BATCH_SIZE, include_raw_modelanswer = False, include_raw_studentanswer = False):\n",
    "    ds = GradeDataset(\n",
    "        modelanswers = df['answer'].to_list(),\n",
    "        studentanswers = df['random_answer_list'].to_list(),\n",
    "        targets = df.Grades.to_list(),\n",
    "        tokenizer = tokenizer,\n",
    "        max_len = max_len,\n",
    "        include_raw_modelanswer = include_raw_modelanswer,\n",
    "        include_raw_studentanswer = include_raw_studentanswer\n",
    "    )\n",
    "    return DataLoader(ds, batch_size = batch_size, collate_fn = collator)\n",
    "    \n",
    "        "
   ]
  },
  {
   "cell_type": "code",
   "execution_count": 23,
   "id": "28ea28f2",
   "metadata": {},
   "outputs": [],
   "source": [
    "train_data_loader = create_data_loader(df_train, tokenizer, include_raw_modelanswer = True, include_raw_studentanswer = True)\n",
    "\n",
    "val_data_loader = create_data_loader(df_val, tokenizer, include_raw_modelanswer = True, include_raw_studentanswer = True)\n",
    "\n",
    "test_data_loader = create_data_loader(df_test, tokenizer, include_raw_modelanswer = True, include_raw_studentanswer = True)"
   ]
  },
  {
   "cell_type": "code",
   "execution_count": 24,
   "id": "b5676d2f",
   "metadata": {},
   "outputs": [
    {
     "name": "stdout",
     "output_type": "stream",
     "text": [
      "dict_keys(['input_ids', 'attention_mask', 'targets', 'model_answer_text', 'student_answer_text'])\n",
      "dict_keys(['input_ids', 'attention_mask', 'targets', 'model_answer_text', 'student_answer_text'])\n",
      "dict_keys(['input_ids', 'attention_mask', 'targets', 'model_answer_text', 'student_answer_text'])\n",
      "dict_keys(['input_ids', 'attention_mask', 'targets', 'model_answer_text', 'student_answer_text'])\n",
      "dict_keys(['input_ids', 'attention_mask', 'targets', 'model_answer_text', 'student_answer_text'])\n",
      "dict_keys(['input_ids', 'attention_mask', 'targets', 'model_answer_text', 'student_answer_text'])\n",
      "dict_keys(['input_ids', 'attention_mask', 'targets', 'model_answer_text', 'student_answer_text'])\n",
      "dict_keys(['input_ids', 'attention_mask', 'targets', 'model_answer_text', 'student_answer_text'])\n",
      "dict_keys(['input_ids', 'attention_mask', 'targets', 'model_answer_text', 'student_answer_text'])\n",
      "dict_keys(['input_ids', 'attention_mask', 'targets', 'model_answer_text', 'student_answer_text'])\n",
      "dict_keys(['input_ids', 'attention_mask', 'targets', 'model_answer_text', 'student_answer_text'])\n",
      "dict_keys(['input_ids', 'attention_mask', 'targets', 'model_answer_text', 'student_answer_text'])\n",
      "dict_keys(['input_ids', 'attention_mask', 'targets', 'model_answer_text', 'student_answer_text'])\n",
      "dict_keys(['input_ids', 'attention_mask', 'targets', 'model_answer_text', 'student_answer_text'])\n",
      "dict_keys(['input_ids', 'attention_mask', 'targets', 'model_answer_text', 'student_answer_text'])\n",
      "dict_keys(['input_ids', 'attention_mask', 'targets', 'model_answer_text', 'student_answer_text'])\n",
      "dict_keys(['input_ids', 'attention_mask', 'targets', 'model_answer_text', 'student_answer_text'])\n",
      "dict_keys(['input_ids', 'attention_mask', 'targets', 'model_answer_text', 'student_answer_text'])\n",
      "dict_keys(['input_ids', 'attention_mask', 'targets', 'model_answer_text', 'student_answer_text'])\n",
      "dict_keys(['input_ids', 'attention_mask', 'targets', 'model_answer_text', 'student_answer_text'])\n",
      "dict_keys(['input_ids', 'attention_mask', 'targets', 'model_answer_text', 'student_answer_text'])\n",
      "dict_keys(['input_ids', 'attention_mask', 'targets', 'model_answer_text', 'student_answer_text'])\n",
      "dict_keys(['input_ids', 'attention_mask', 'targets', 'model_answer_text', 'student_answer_text'])\n",
      "dict_keys(['input_ids', 'attention_mask', 'targets', 'model_answer_text', 'student_answer_text'])\n",
      "dict_keys(['input_ids', 'attention_mask', 'targets', 'model_answer_text', 'student_answer_text'])\n",
      "dict_keys(['input_ids', 'attention_mask', 'targets', 'model_answer_text', 'student_answer_text'])\n",
      "dict_keys(['input_ids', 'attention_mask', 'targets', 'model_answer_text', 'student_answer_text'])\n",
      "dict_keys(['input_ids', 'attention_mask', 'targets', 'model_answer_text', 'student_answer_text'])\n",
      "dict_keys(['input_ids', 'attention_mask', 'targets', 'model_answer_text', 'student_answer_text'])\n",
      "dict_keys(['input_ids', 'attention_mask', 'targets', 'model_answer_text', 'student_answer_text'])\n",
      "dict_keys(['input_ids', 'attention_mask', 'targets', 'model_answer_text', 'student_answer_text'])\n",
      "dict_keys(['input_ids', 'attention_mask', 'targets', 'model_answer_text', 'student_answer_text'])\n"
     ]
    }
   ],
   "source": [
    "for d in val_data_loader:\n",
    "    print(d.keys())"
   ]
  },
  {
   "cell_type": "code",
   "execution_count": 25,
   "id": "ce93a785",
   "metadata": {},
   "outputs": [
    {
     "name": "stdout",
     "output_type": "stream",
     "text": [
      "dict_keys(['input_ids', 'attention_mask', 'targets', 'model_answer_text', 'student_answer_text'])\n",
      "torch.Size([32, 135])\n",
      "torch.Size([32, 135])\n",
      "torch.Size([32])\n"
     ]
    }
   ],
   "source": [
    "data = next(iter(train_data_loader))\n",
    "\n",
    "print(data.keys())\n",
    "\n",
    "print(data['input_ids'].shape)\n",
    "\n",
    "print(data['attention_mask'].shape)\n",
    "\n",
    "print(data['targets'].shape)"
   ]
  },
  {
   "cell_type": "code",
   "execution_count": 26,
   "id": "0a53ea2b",
   "metadata": {},
   "outputs": [],
   "source": [
    "pre_trained_model_ckpt = 'bert-base-uncased'\n",
    "\n",
    "class GradeClassifier(nn.Module):\n",
    "    def __init__(self, n_classes):\n",
    "        super(GradeClassifier, self).__init__()\n",
    "        self.bert = BertModel.from_pretrained(pre_trained_model_ckpt, return_dict = False)\n",
    "        self.drop = nn.Dropout(p = 0.3)\n",
    "        self.out = nn.Linear(self.bert.config.hidden_size, n_classes)\n",
    "        \n",
    "    def forward(self, input_ids, attention_mask):\n",
    "        _, pooled_output = self.bert(\n",
    "            input_ids = input_ids,\n",
    "            attention_mask = attention_mask\n",
    "        )\n",
    "        output = self.drop(pooled_output)\n",
    "        return self.out(output)"
   ]
  },
  {
   "cell_type": "code",
   "execution_count": 27,
   "id": "4d143f46",
   "metadata": {},
   "outputs": [
    {
     "data": {
      "text/plain": [
       "tensor([[0.1557, 0.2367, 0.3400, 0.1409, 0.1268],\n",
       "        [0.0588, 0.0601, 0.3580, 0.2675, 0.2556],\n",
       "        [0.1658, 0.2522, 0.2648, 0.1819, 0.1353],\n",
       "        [0.1373, 0.1226, 0.3341, 0.1788, 0.2272],\n",
       "        [0.1911, 0.1779, 0.3382, 0.1623, 0.1305],\n",
       "        [0.1581, 0.1430, 0.2875, 0.2685, 0.1429],\n",
       "        [0.1169, 0.0564, 0.5135, 0.1537, 0.1595],\n",
       "        [0.1224, 0.1658, 0.3152, 0.2219, 0.1746],\n",
       "        [0.1506, 0.1311, 0.3805, 0.2359, 0.1019],\n",
       "        [0.1689, 0.1683, 0.3039, 0.1877, 0.1713],\n",
       "        [0.1323, 0.2275, 0.2984, 0.0935, 0.2482],\n",
       "        [0.1330, 0.1193, 0.3573, 0.2627, 0.1278],\n",
       "        [0.1892, 0.1592, 0.3159, 0.1339, 0.2017],\n",
       "        [0.1583, 0.1841, 0.3292, 0.1719, 0.1565],\n",
       "        [0.1899, 0.1883, 0.3474, 0.1605, 0.1140],\n",
       "        [0.1859, 0.1342, 0.3598, 0.1875, 0.1326],\n",
       "        [0.1466, 0.1875, 0.3348, 0.1989, 0.1321],\n",
       "        [0.2268, 0.1861, 0.2228, 0.1311, 0.2331],\n",
       "        [0.1629, 0.1388, 0.4184, 0.1525, 0.1275],\n",
       "        [0.0947, 0.1100, 0.4772, 0.1487, 0.1695],\n",
       "        [0.1196, 0.1998, 0.3421, 0.1974, 0.1411],\n",
       "        [0.1539, 0.1448, 0.3530, 0.1407, 0.2077],\n",
       "        [0.1512, 0.1578, 0.4216, 0.1025, 0.1669],\n",
       "        [0.1589, 0.1448, 0.4422, 0.1574, 0.0968],\n",
       "        [0.0936, 0.1869, 0.3969, 0.1951, 0.1275],\n",
       "        [0.1396, 0.1686, 0.3292, 0.2112, 0.1514],\n",
       "        [0.1327, 0.1952, 0.3752, 0.1324, 0.1646],\n",
       "        [0.2081, 0.1633, 0.3935, 0.1602, 0.0749],\n",
       "        [0.1594, 0.1980, 0.3564, 0.1213, 0.1649],\n",
       "        [0.1550, 0.1284, 0.3843, 0.1387, 0.1935],\n",
       "        [0.1050, 0.1341, 0.3982, 0.2454, 0.1173],\n",
       "        [0.1494, 0.1362, 0.4041, 0.1397, 0.1705]], grad_fn=<SoftmaxBackward0>)"
      ]
     },
     "execution_count": 27,
     "metadata": {},
     "output_type": "execute_result"
    }
   ],
   "source": [
    "class_names = ['F-Grade', 'C-Grade', 'B-Grade', 'A-Grade', 'O-Grade']\n",
    "\n",
    "model = GradeClassifier(len(class_names))\n",
    "\n",
    "model = model.to(device)\n",
    "\n",
    "input_ids = data['input_ids'].to(device)\n",
    "\n",
    "attention_mask = data['attention_mask'].to(device)\n",
    "\n",
    "F.softmax(model(input_ids, attention_mask), dim = 1)"
   ]
  },
  {
   "cell_type": "code",
   "execution_count": 28,
   "id": "da831891",
   "metadata": {},
   "outputs": [],
   "source": [
    "EPOCHS = 10\n",
    "\n",
    "optimizer = optim.AdamW(model.parameters(), lr = 1e-5)\n",
    "\n",
    "total_steps = len(train_data_loader) * EPOCHS\n",
    "\n",
    "scheduler = get_linear_schedule_with_warmup(\n",
    "    optimizer,\n",
    "    num_warmup_steps = 0,\n",
    "    num_training_steps=total_steps)\n",
    "\n",
    "loss_fn = nn.CrossEntropyLoss().to(device)"
   ]
  },
  {
   "cell_type": "code",
   "execution_count": 29,
   "id": "caa2f4b9",
   "metadata": {},
   "outputs": [],
   "source": [
    "from tqdm.auto import tqdm\n",
    "\n",
    "RANDOM_SEED = 42\n",
    "np.random.seed(RANDOM_SEED)\n",
    "torch.manual_seed(RANDOM_SEED)\n",
    "device = torch.device(\"cuda:0\" if torch.cuda.is_available() else \"cpu\")\n",
    "\n",
    "def train_model(model, data_loader, loss_fn, optimizer, device, scheduler, n_examples):\n",
    "    model = model.train()\n",
    "    losses = []\n",
    "    correct_predictions = 0\n",
    "    \n",
    "    \n",
    "    \n",
    "    for d in data_loader:\n",
    "        input_ids = d['input_ids'].to(device)\n",
    "        attention_mask = d['attention_mask'].to(device)\n",
    "        targets = d['targets'].to(device)\n",
    "        \n",
    "        outputs = model(input_ids = input_ids, attention_mask = attention_mask)\n",
    "        _, preds = torch.max(outputs, dim = 1)\n",
    "        loss = loss_fn(outputs, targets)\n",
    "        \n",
    "        correct_predictions += torch.sum(preds == targets).cpu()\n",
    "        \n",
    "        losses.append(loss.item())\n",
    "        \n",
    "        loss.backward()\n",
    "        nn.utils.clip_grad_norm_(model.parameters(), max_norm = 1.0)\n",
    "        \n",
    "        optimizer.step()\n",
    "        scheduler.step()\n",
    "        \n",
    "    return correct_predictions/n_examples, np.mean(losses)\n",
    "\n",
    "def eval_model(model, data_loader, loss_fn, device, n_examples):\n",
    "    model = model.train()\n",
    "    losses = []\n",
    "    correct_predictions = 0\n",
    "    \n",
    "    for d in data_loader:\n",
    "        input_ids = d['input_ids'].to(device)\n",
    "        attention_mask = d['attention_mask'].to(device)\n",
    "        targets = d['targets'].to(device)\n",
    "        \n",
    "        outputs = model(input_ids = input_ids, attention_mask = attention_mask)\n",
    "        _, preds = torch.max(outputs, dim = 1)\n",
    "        loss = loss_fn(outputs, targets)\n",
    "        \n",
    "        correct_predictions += torch.sum(preds == targets).cpu()\n",
    "        \n",
    "        losses.append(loss.item())\n",
    "        \n",
    "    return correct_predictions/n_examples, np.mean(losses)\n",
    "\n",
    "\n",
    "def get_predictions(model, data_loader):\n",
    "    model = model.eval()\n",
    "    model_answer = []\n",
    "    student_answer = []\n",
    "    predictions = []\n",
    "    prediction_probs = []\n",
    "    real_values = []\n",
    "    \n",
    "    with torch.no_grad():\n",
    "        for d in data_loader:\n",
    "            model_ans = d['model_answers']\n",
    "            student_ans = d['student_answers']\n",
    "            input_ids = d['input_ids'].to(device)\n",
    "            attention_mask = d['attention_mask'].to(device)\n",
    "            targets = d['targets'].to(device)\n",
    "                          \n",
    "            outputs = model(input_ids = input_ids, attention_mask = attention_mask)\n",
    "            _, preds = torch.max(outputs, dim = 1)\n",
    "                          \n",
    "            probs = F.softmax(outputs, dim = 1)\n",
    "                          \n",
    "            model_answer.extend(model_ans)\n",
    "            student_answer.extend(student_ans)\n",
    "            predictions.extend(preds)\n",
    "            prediction_probs.extend(probs)\n",
    "            real_values.extend(targets)\n",
    "                          \n",
    "                          \n",
    "    predictions = torch.stack(predictions).cpu()\n",
    "    predictions_probs = torch.stack(prediction_probs).cpu()\n",
    "    real_values = torch.stack(real_values).cpu()\n",
    "                          \n",
    "    return model_answer, student_answer, predictions, prediction_probs, real_values"
   ]
  },
  {
   "cell_type": "code",
   "execution_count": null,
   "id": "42faf13d",
   "metadata": {},
   "outputs": [
    {
     "name": "stdout",
     "output_type": "stream",
     "text": [
      "Epoch 1 / 10\n"
     ]
    },
    {
     "data": {
      "application/vnd.jupyter.widget-view+json": {
       "model_id": "7566044161cd4971b778f753f1e9c5bc",
       "version_major": 2,
       "version_minor": 0
      },
      "text/plain": [
       "  0%|          | 0/250 [00:01<?, ?it/s]"
      ]
     },
     "metadata": {},
     "output_type": "display_data"
    }
   ],
   "source": [
    "from tqdm.auto import tqdm\n",
    "\n",
    "history = defaultdict(list)\n",
    "best_accuracy = 0\n",
    "\n",
    "for epoch in range(EPOCHS):\n",
    "    print(f'Epoch {epoch + 1} / {EPOCHS}')\n",
    "    \n",
    "    train_loop = tqdm(train_data_loader, leave = True)\n",
    "    model.train()\n",
    "    \n",
    "    running_loss = 0.0\n",
    "    running_acc = 0.0\n",
    "    \n",
    "    train_acc, train_loss = train_model(model, train_data_loader, loss_fn, optimizer, device, scheduler, len(df_train))\n",
    "    \n",
    "    train_acc = running_acc/ len(df_train)\n",
    "    train_acc = running_loss/ len(df_train)\n",
    "    \n",
    "    history['train_acc'].append(train_acc)\n",
    "    history['train_loss'].append(train_loss)\n",
    "    \n",
    "    val_loop = tqdm(val_data_loader, leave = True)\n",
    "    model.eval()\n",
    "    \n",
    "    running_loss1 = 0.0\n",
    "    running_acc2 = 0.0\n",
    "    \n",
    "    val_acc, val_loss = eval_model(model, val_data_loader, loss_fn, device, len(df_val))\n",
    "   \n",
    "    val_acc = running_acc/ len(df_val)\n",
    "    val_acc = running_loss/ len(df_val)\n",
    " \n",
    "    history['val_acc'].append(val_acc)\n",
    "    history['val_loss'].append(val_loss)\n",
    "    \n",
    "    if val_acc > best_accuracy:\n",
    "        torch.save(model.state_dict(), 'best_model.bin')\n",
    "        best_accuracy = val_acc\n",
    "    "
   ]
  },
  {
   "cell_type": "code",
   "execution_count": null,
   "id": "7512d786",
   "metadata": {},
   "outputs": [],
   "source": []
  }
 ],
 "metadata": {
  "kernelspec": {
   "display_name": "Python 3 (ipykernel)",
   "language": "python",
   "name": "python3"
  },
  "language_info": {
   "codemirror_mode": {
    "name": "ipython",
    "version": 3
   },
   "file_extension": ".py",
   "mimetype": "text/x-python",
   "name": "python",
   "nbconvert_exporter": "python",
   "pygments_lexer": "ipython3",
   "version": "3.9.7"
  }
 },
 "nbformat": 4,
 "nbformat_minor": 5
}
